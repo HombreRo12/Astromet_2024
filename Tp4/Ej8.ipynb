{
 "cells": [
  {
   "cell_type": "code",
   "execution_count": 27,
   "metadata": {},
   "outputs": [],
   "source": [
    "import numpy as np\n",
    "import matplotlib.pyplot as plt\n",
    "import scipy.stats as sp"
   ]
  },
  {
   "cell_type": "markdown",
   "metadata": {},
   "source": [
    "Primero, agarro la inversa de distrib exponencial que tenía de la guía 2 y simulo las 50 mediciones"
   ]
  },
  {
   "cell_type": "code",
   "execution_count": 28,
   "metadata": {},
   "outputs": [
    {
     "data": {
      "image/png": "[encoded data removed]",
      "text/plain": [
       "<Figure size 640x480 with 1 Axes>"
      ]
     },
     "metadata": {},
     "output_type": "display_data"
    }
   ],
   "source": [
    "def pdf(x,l):\n",
    "    pdf = np.exp(-x*l)*l\n",
    "    return pdf\n",
    "\n",
    "def cdf(x,l):\n",
    "    cdf = 1-np.exp(-x*l)\n",
    "    return cdf\n",
    "\n",
    "def inv(y,l):\n",
    "    inv = -np.log(1-y)/l\n",
    "    return inv\n",
    "\n",
    "y=np.random.rand(50)\n",
    "x=inv(y,5)\n",
    "\n",
    "plt.hist(x,bins=50,density=True)\n",
    "plt.xlabel('x')\n",
    "plt.ylabel('Frecuencia')\n",
    "plt.title('Distribución exponencial')\n",
    "plt.show()"
   ]
  },
  {
   "cell_type": "markdown",
   "metadata": {},
   "source": [
    "$L =\\prod_{i=1}^N \\lambda e^{-\\lambda x_i} $ \n",
    "\n",
    "$\\log{L}=N\\log{\\lambda}-\\lambda \\sum_{i=1}^N x_i$\n",
    "\n",
    "$\\lambda=\\frac{1}{\\overline{x}}$"
   ]
  },
  {
   "cell_type": "code",
   "execution_count": 29,
   "metadata": {},
   "outputs": [
    {
     "name": "stdout",
     "output_type": "stream",
     "text": [
      "El valor de máximo likelihood para estimar lambda es: 4.926479285075371\n"
     ]
    }
   ],
   "source": [
    "maxlikelihood = 1/np.mean(x)\n",
    "\n",
    "print('El valor de máximo likelihood para estimar lambda es:',maxlikelihood)"
   ]
  },
  {
   "cell_type": "code",
   "execution_count": 30,
   "metadata": {},
   "outputs": [
    {
     "name": "stdout",
     "output_type": "stream",
     "text": [
      "[       -inf        -inf        -inf        -inf        -inf        -inf\n",
      "        -inf        -inf        -inf        -inf        -inf        -inf\n",
      "        -inf        -inf        -inf        -inf        -inf        -inf\n",
      "        -inf        -inf        -inf        -inf 24.48290699 25.05289735\n",
      " 25.57961639 26.06550244 26.51279334 26.9235479  27.29966441 27.64289701\n",
      " 27.95486984 28.23708962 28.49095669 28.7177748  28.91875979 29.09504732\n",
      " 29.24769978 29.37771244 29.486019   29.57349657 29.64097013 29.68921662\n",
      " 29.71896857 29.73091742 29.72571655 29.70398402 29.66630508 29.61323441\n",
      " 29.54529828 29.46299639 29.36680369 29.25717193 29.1345312  28.99929124\n",
      " 28.85184277 28.69255857 28.52179464 28.33989113 28.1471733  27.94395237\n",
      " 27.73052632 27.50718062 27.27418892 27.03181372 26.78030694 26.51991047\n",
      " 26.25085675        -inf        -inf        -inf        -inf        -inf\n",
      "        -inf        -inf        -inf        -inf        -inf        -inf\n",
      "        -inf        -inf        -inf        -inf        -inf        -inf\n",
      "        -inf        -inf        -inf        -inf        -inf        -inf\n",
      "        -inf        -inf        -inf        -inf        -inf        -inf\n",
      "        -inf        -inf        -inf        -inf]\n",
      "El valor de lambda que maximiza el posterior es: 4.909090909090909\n"
     ]
    }
   ],
   "source": [
    "bordeinferr\t= 3\n",
    "bordesuperr\t= 7\n",
    "\n",
    "lambda_estimador = np.linspace(1, 10, 100)\n",
    "\n",
    "def loglikelihood(x, l):\n",
    "    L = np.sum(np.log(pdf(x, l)))\n",
    "    return L\n",
    "\n",
    "def priors(p):\n",
    "\tif bordeinferr <= p and p <= bordesuperr:\n",
    "\t\treturn 0\n",
    "\telse:\n",
    "\t\treturn -np.inf\n",
    "\n",
    "def post(x, l):\n",
    "    prior_prob = priors(l)\n",
    "    return loglikelihood(x, l) + prior_prob\n",
    "\n",
    "posterior\t= np.zeros(len(lambda_estimador))\n",
    "for i in range(len(lambda_estimador)):\n",
    "\t\t\t\tposterior[i] = post(x, lambda_estimador[i])\n",
    "\n",
    "lambda_bayesiano =\tlambda_estimador[np.argmax(posterior)]\n",
    "\n",
    "print(posterior)\n",
    "print('El valor de lambda que maximiza el posterior es:',lambda_bayesiano)\n"
   ]
  },
  {
   "cell_type": "code",
   "execution_count": 31,
   "metadata": {},
   "outputs": [
    {
     "name": "stdout",
     "output_type": "stream",
     "text": [
      "0.09090909090909083\n",
      "0.07352071492462908\n",
      "El error porcentual para el estimador frecuentista es: 1.4704142984925817\n",
      "El error porcentual para el estimador bayesiano es: 1.8181818181818168\n"
     ]
    }
   ],
   "source": [
    "delta_frec = abs(5-maxlikelihood)\n",
    "delta_bayes =\tabs(5-lambda_bayesiano)\n",
    "\n",
    "print(delta_bayes)\n",
    "print(delta_frec)\n",
    "\n",
    "porcen_frec\t= (delta_frec/5)*100\n",
    "porcen_bayes = (delta_bayes/5)*100\n",
    "\n",
    "print('El error porcentual para el estimador frecuentista es:',porcen_frec)\n",
    "print('El error porcentual para el estimador bayesiano es:',porcen_bayes)\n"
   ]
  },
  {
   "cell_type": "markdown",
   "metadata": {},
   "source": [
    "Fluctua mucho, hagamos varias tiradas."
   ]
  },
  {
   "cell_type": "code",
   "execution_count": 32,
   "metadata": {},
   "outputs": [
    {
     "name": "stdout",
     "output_type": "stream",
     "text": [
      "El valor medio del estimador frecuentista es: 5.098541971553497\n",
      "El valor medio del estimador bayesiano es: 5.093618181818182\n",
      "Lambda frecuentista medio 5.098541971553497\n",
      "Lambda bayesiano medio 5.093618181818182\n",
      "Error porcentual medio frecuentista 1.970839431069944\n",
      "Error porcentual medio bayesiano 1.8723636363636407\n"
     ]
    }
   ],
   "source": [
    "experimento = 10000\n",
    "\n",
    "maxlikelihood_lista = np.zeros(experimento)\n",
    "lambda_bayesiano_lista = np.zeros(experimento)\n",
    "\n",
    "for j in range(experimento):\n",
    "\n",
    "\ty=np.random.rand(50)\n",
    "\tx=inv(y,5)\n",
    "\n",
    "\tmaxlikelihood = 1/np.mean(x)\n",
    "\tmaxlikelihood_lista[j] = maxlikelihood\n",
    "\n",
    "\tfor i in range(len(lambda_estimador)):\n",
    "\t\t\t\t\tposterior[i] = post(x, lambda_estimador[i])\n",
    "\n",
    "\tlambda_bayesiano =\tlambda_estimador[np.argmax(posterior)]\n",
    "\tlambda_bayesiano_lista[j] = lambda_bayesiano\n",
    "\n",
    "frec_medio\t= np.mean(maxlikelihood_lista)\n",
    "bayes_medio\t= np.mean(lambda_bayesiano_lista)\n",
    "\n",
    "print('El valor medio del estimador frecuentista es:',frec_medio)\n",
    "print('El valor medio del estimador bayesiano es:',bayes_medio)\n",
    "\n",
    "delta_frec_lista\t= abs(5-frec_medio)\n",
    "delta_bayes_lista = abs(5-bayes_medio)\n",
    "porcen_frec_lista\t= (delta_frec_lista/5)*100\n",
    "porcen_bayes_lista = (delta_bayes_lista/5)*100\n",
    "\n",
    "print('Lambda frecuentista medio',frec_medio)\n",
    "print('Lambda bayesiano medio',bayes_medio)\n",
    "print('Error porcentual medio frecuentista',porcen_frec_lista)\n",
    "print('Error porcentual medio bayesiano',porcen_bayes_lista)"
   ]
  }
 ],
 "metadata": {
  "kernelspec": {
   "display_name": "astrometria",
   "language": "python",
   "name": "python3"
  },
  "language_info": {
   "codemirror_mode": {
    "name": "ipython",
    "version": 3
   },
   "file_extension": ".py",
   "mimetype": "text/x-python",
   "name": "python",
   "nbconvert_exporter": "python",
   "pygments_lexer": "ipython3",
   "version": "3.10.14"
  }
 },
 "nbformat": 4,
 "nbformat_minor": 2
}
