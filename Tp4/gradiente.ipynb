{
 "cells": [
  {
   "cell_type": "code",
   "execution_count": 2,
   "metadata": {},
   "outputs": [],
   "source": [
    "import numpy\tas np\n",
    "import matplotlib.pyplot as plt\n",
    "import pandas as pd\n",
    "import sympy as sp"
   ]
  },
  {
   "cell_type": "code",
   "execution_count": 3,
   "metadata": {},
   "outputs": [],
   "source": [
    "datos = pd.read_csv('data.csv')\n",
    "magnitud = datos.iloc[:, 0]\n",
    "funcionlum = datos.iloc[:, 1]"
   ]
  },
  {
   "cell_type": "code",
   "execution_count": 4,
   "metadata": {},
   "outputs": [],
   "source": [
    "def\tschechter(x,M,phi,alpha):\n",
    "\t\t\t\tm = 0.4*np.log(10)*phi*(10**(-0.4*(x-M)*(alpha+1)))*np.exp(-10**(-0.4*(x-M)))\n",
    "\t\t\t\treturn m"
   ]
  },
  {
   "cell_type": "markdown",
   "metadata": {},
   "source": [
    "Derivo con python para evitar errores humanos"
   ]
  },
  {
   "cell_type": "code",
   "execution_count": 58,
   "metadata": {},
   "outputs": [
    {
     "name": "stdout",
     "output_type": "stream",
     "text": [
      "-0.16*10**((0.4*M - 0.4*x)*(alpha + 1))*10**(0.4*M - 0.4*x)*phi*exp(-10**(0.4*M - 0.4*x))*log(10)**2 + 0.4*10**((0.4*M - 0.4*x)*(alpha + 1))*phi*(0.4*alpha + 0.4)*exp(-10**(0.4*M - 0.4*x))*log(10)**2\n",
      "0.4*10**((0.4*M - 0.4*x)*(alpha + 1))*exp(-10**(0.4*M - 0.4*x))*log(10)\n",
      "0.4*10**((0.4*M - 0.4*x)*(alpha + 1))*phi*(0.4*M - 0.4*x)*exp(-10**(0.4*M - 0.4*x))*log(10)**2\n"
     ]
    }
   ],
   "source": [
    "x, M, phi, alpha = sp.symbols('x M phi alpha')\n",
    "m_sympy = 0.4*sp.log(10)*phi*(10**(-0.4*(x-M)*(alpha+1)))*sp.exp(-10**(-0.4*(x-M)))\n",
    "derivadaM = sp.diff(m_sympy, M)\n",
    "derivadaphi = sp.diff(m_sympy, phi)\n",
    "derivadaalpha = sp.diff(m_sympy, alpha)\n",
    "print(derivadaM)\n",
    "print(derivadaphi)\n",
    "print(derivadaalpha)"
   ]
  },
  {
   "cell_type": "markdown",
   "metadata": {},
   "source": [
    "Definimos las funciones"
   ]
  },
  {
   "cell_type": "code",
   "execution_count": 28,
   "metadata": {},
   "outputs": [],
   "source": [
    "def diffM(x,\tM, phi, alpha):\n",
    "\t\t\t\treturn -0.16*10**((0.4*M - 0.4*x)*(alpha + 1))*10**(0.4*M - 0.4*x)*phi*np.exp(-10**(0.4*M - 0.4*x))*np.log(10)**2 + 0.4*10**((0.4*M - 0.4*x)*(alpha + 1))*phi*(0.4*alpha + 0.4)*np.exp(-10**(0.4*M - 0.4*x))*np.log(10)**2\n",
    "\n",
    "\n",
    "def diffphi(x,\tM, phi, alpha):\n",
    "\t\t\t\treturn 0.4*10**((0.4*M - 0.4*x)*(alpha + 1))*np.exp(-10**(0.4*M - 0.4*x))*np.log(10)\n",
    "\n",
    "def diffalpha(x,\tM, phi, alpha):\n",
    "\t\t\t\treturn 0.4*10**((0.4*M - 0.4*x)*(alpha + 1))*phi*(0.4*M - 0.4*x)*np.exp(-10**(0.4*M - 0.4*x))*np.log(10)**2\n",
    "\n",
    "def gradiente(x, M, phi, alpha, sigma):\n",
    "\t\t\t\tgrad = np.zeros(3)\n",
    "\t\t\t\tgrad[0] = -2*np.sum((funcionlum-schechter(magnitud, M, phi, alpha))*diffM(magnitud, M, phi, alpha)/(sigma**2))\n",
    "\t\t\t\tgrad[1] = -2*np.sum((funcionlum-schechter(magnitud, M, phi, alpha))*diffphi(magnitud, M, phi, alpha)/(sigma**2))\n",
    "\t\t\t\tgrad[2] = -2*np.sum((funcionlum-schechter(magnitud, M, phi, alpha))*diffalpha(magnitud, M, phi, alpha)/(sigma**2))\n",
    "\t\t\t\treturn grad"
   ]
  },
  {
   "cell_type": "markdown",
   "metadata": {},
   "source": [
    "Las cotas"
   ]
  },
  {
   "cell_type": "code",
   "execution_count": 14,
   "metadata": {},
   "outputs": [],
   "source": [
    "alphamin = -1.5\n",
    "alphamax = -1.3\n",
    "Mmin = -21\n",
    "Mmax = -20.6\n",
    "phimin = 1.2*(10**(-2))\n",
    "phimax = 1.6*(10 ** (-2))"
   ]
  },
  {
   "cell_type": "markdown",
   "metadata": {},
   "source": [
    "Las normalizaciones"
   ]
  },
  {
   "cell_type": "code",
   "execution_count": 15,
   "metadata": {},
   "outputs": [],
   "source": [
    "def normM(M):\n",
    "    return (M - Mmin) / ( Mmax - Mmin)\n",
    "\n",
    "def anti_normM(M):\n",
    "\t\t\t\treturn (M * (Mmax - Mmin)) + Mmin\n",
    "\n",
    "def normphi(phi):\n",
    "\t\t\t\treturn (phi - phimin) / (phimax - phimin)\n",
    "\n",
    "def anti_normphi(phi):\n",
    "\t\t\t\treturn (phi * (phimax - phimin)) + phimin\n",
    "\n",
    "def normalpha(alpha):\n",
    "\t\t\t\treturn (alpha - alphamin) / (alphamax - alphamin)\n",
    "\n",
    "def anti_normalpha(alpha):\n",
    "\t\t\t\treturn (alpha * (alphamax - alphamin)) + alphamin"
   ]
  },
  {
   "cell_type": "markdown",
   "metadata": {},
   "source": [
    "Ahora si, el descenso por el gradiente"
   ]
  },
  {
   "cell_type": "code",
   "execution_count": 62,
   "metadata": {},
   "outputs": [],
   "source": [
    "def graddes(x, y, sigma, N):\n",
    "\t#Lanzamos en un lugar al azar dentro de los priors.\n",
    "\tM = np.random.uniform(Mmin, Mmax)\n",
    "\tphi = np.random.uniform(phimin, phimax)\n",
    "\talpha = np.random.uniform(alphamin, alphamax)\n",
    "\t#Armamos las listas donde guardaremos todo\n",
    "\tMreccorridos\t= np.zeros(N+1)\n",
    "\tphirecorridos = np.zeros(N+1)\n",
    "\talpharecorridos = np.zeros(N+1)\n",
    "\t#Guardamos los primeros valores\n",
    "\tMreccorridos[0] = M\n",
    "\tphirecorridos[0] = phi\n",
    "\talpharecorridos[0] = alpha\n",
    "\t#Empezamos a recorrer\n",
    "\tfor i in range(N):\n",
    "\t\tpp = 1e-5\n",
    "\t\tgrad =\tgradiente(x, M, phi, alpha, sigma)\n",
    "\t\tM_paso = normM(M) - normM(grad[0])*pp\n",
    "\t\tphi_paso = normphi(phi) - normphi(grad[1])*pp\n",
    "\t\talpha_paso = normalpha(alpha) - normalpha(grad[2])*pp\n",
    "\t\t\n",
    "\t\t#Ahora, desonormalizamos para calcular la probabilidad:\n",
    "\t\tM_paso = anti_normM(M_paso)\n",
    "\t\tphi_paso = anti_normphi(phi_paso)\n",
    "\t\talpha_paso = anti_normalpha(alpha_paso)\n",
    "\t# Evito que diverja\n",
    "\t\tM_paso = np.clip(M_paso, Mmin, Mmax)\n",
    "\t\tphi_paso = np.clip(phi_paso, phimin, phimax)\n",
    "\t\talpha_paso = np.clip(alpha_paso, alphamin, alphamax)\n",
    "\t#Me los guardo en la lista\n",
    "\t\tMreccorridos[i+1] = M_paso\n",
    "\t\tphirecorridos[i+1] = phi_paso\n",
    "\t\talpharecorridos[i+1] = alpha_paso\n",
    "\t\t#Avanzo\n",
    "\t\tM = M_paso\n",
    "\t\tphi = phi_paso\n",
    "\t\talpha = alpha_paso\n",
    "\t#Obtengo todos los valores de los parametros\n",
    "\treturn\tMreccorridos, phirecorridos, alpharecorridos"
   ]
  },
  {
   "cell_type": "code",
   "execution_count": 63,
   "metadata": {},
   "outputs": [],
   "source": [
    "erromin = datos.iloc[:,2]\n",
    "erromax = datos.iloc[:,3]\n",
    "\n",
    "sigma = (erromax-erromin) / 2\n",
    "\n",
    "# Ejecutar el descenso por gradiente\n",
    "mrec, phirec, alpharec = graddes(magnitud, funcionlum, sigma, 10000)"
   ]
  },
  {
   "cell_type": "code",
   "execution_count": 64,
   "metadata": {},
   "outputs": [
    {
     "data": {
      "image/png": "[encoded data removed]",
      "text/plain": [
       "<Figure size 640x480 with 1 Axes>"
      ]
     },
     "metadata": {},
     "output_type": "display_data"
    },
    {
     "name": "stdout",
     "output_type": "stream",
     "text": [
      "recorrido: [-20.95328835 -20.6        -21.         ... -21.         -20.6\n",
      " -21.        ] [0.01560834 0.012      0.012      ... 0.012      0.012      0.012     ] [-1.41051943 -1.3        -1.3        ... -1.3        -1.3\n",
      " -1.3       ]\n",
      "Valores finales: -21.0 0.012 -1.3\n"
     ]
    }
   ],
   "source": [
    "# Graficar los resultados\n",
    "plt.plot(mrec, label='M')\n",
    "plt.plot(phirec, label='phi')\n",
    "plt.plot(alpharec, label='alpha')\n",
    "plt.legend()\n",
    "plt.show()\n",
    "\n",
    "print('recorrido:', mrec, phirec, alpharec)\n",
    "print('Valores finales:',\tmrec[-1], phirec[-1], alpharec[-1])"
   ]
  },
  {
   "cell_type": "code",
   "execution_count": null,
   "metadata": {},
   "outputs": [],
   "source": []
  }
 ],
 "metadata": {
  "kernelspec": {
   "display_name": "astrometria",
   "language": "python",
   "name": "python3"
  },
  "language_info": {
   "codemirror_mode": {
    "name": "ipython",
    "version": 3
   },
   "file_extension": ".py",
   "mimetype": "text/x-python",
   "name": "python",
   "nbconvert_exporter": "python",
   "pygments_lexer": "ipython3",
   "version": "3.10.14"
  }
 },
 "nbformat": 4,
 "nbformat_minor": 2
}
