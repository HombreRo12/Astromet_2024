{
 "cells": [
  {
   "cell_type": "markdown",
   "metadata": {},
   "source": [
    "a) Todas las agujas se lanzan con una distribución uniforme, por lo que las distribuciones para $(x,\\theta)$ deben ser constantes. Calculemos para $x$: Dado que se mide desde el centro de la aguja y la mesa mide t, la máxima distancia posible es $\\frac{t}{2} \\implies \\int_{0}^{\\frac{t}{2}}p(x)dx = 1 \\leftrightarrow \\frac{t}{2} \\alpha = 1 \\leftrightarrow \\alpha = \\frac{2}{t} \\implies p(x)=\\frac{2}{t}$\n",
    "\n",
    "Análogamente, $\\theta \\in [0,\\frac{\\pi}{2}] \\implies p(\\theta)=\\frac{2}{\\pi}$\n",
    "\n",
    "$\\therefore p(x,\\theta)=\\frac{4}{t\\pi}$ pues son independientes."
   ]
  },
  {
   "cell_type": "markdown",
   "metadata": {},
   "source": [
    "b) Si $l<t$ la aguja tocará la raya cuando $cos(\\frac{\\pi}{2}-\\theta)=\\frac{x}{\\frac{l}{2}}$ (trigonometría) por lo tanto, para que se produzca un contacto necesitamos que $\\frac{l}{2}sen(\\theta) \\geq x \\implies $ debemos integrar en esa región para x:\n",
    "\n",
    "$\\int_{0}^{\\frac{\\pi}{2}}\\int_{0}^{\\frac{l}{2}sen(\\theta)}p(x,\\theta)dxd\\theta = \\int_{0}^{{\\frac{\\pi}{2}}} \\frac{l}{2}sen(\\theta)\\frac{2}{t} =\\frac{2l}{t\\pi}$ es la probabilidad de que toque una raya.\n"
   ]
  },
  {
   "cell_type": "markdown",
   "metadata": {},
   "source": [
    "c) $p=\\frac{2l}{t\\pi}\\leftrightarrow \\pi = \\frac{2l}{tp}$ por lo tanto basta simular el experimento para poder estimar $\\pi$."
   ]
  },
  {
   "cell_type": "code",
   "execution_count": 28,
   "metadata": {},
   "outputs": [
    {
     "name": "stdout",
     "output_type": "stream",
     "text": [
      "3.143094401583114\n"
     ]
    }
   ],
   "source": [
    "import numpy as np\n",
    "\n",
    "t=2 #Distancia entre rayas.\n",
    "l=1 #Longitud de la aguja, respetando que l<t.\n",
    "lanzamientos = 10000000 #Cantidad de lanzamientos.\n",
    "contador = 0 #Contador de contactos.\n",
    "\n",
    "for i in range(lanzamientos):\n",
    "    x=np.random.uniform(0,t/2) #Genero un número aleatorio entre los permitidos para x.\n",
    "    a=np.random.uniform(0,np.pi/2) #Genero un número aleatorio entre los permitidos para theta.\n",
    "    if x<=l/2*np.sin(a): #Separo los casos donde se toca la aguja con la raya.\n",
    "        contador+=1\n",
    "\n",
    "#Calculo el valor de pi.\n",
    "pi=2*l*lanzamientos/(t*contador)\n",
    "\n",
    "print(pi)"
   ]
  },
  {
   "cell_type": "markdown",
   "metadata": {},
   "source": [
    "Obteniendo un resultado cercano a pi."
   ]
  }
 ],
 "metadata": {
  "kernelspec": {
   "display_name": "astrometria",
   "language": "python",
   "name": "python3"
  },
  "language_info": {
   "codemirror_mode": {
    "name": "ipython",
    "version": 3
   },
   "file_extension": ".py",
   "mimetype": "text/x-python",
   "name": "python",
   "nbconvert_exporter": "python",
   "pygments_lexer": "ipython3",
   "version": "3.10.14"
  }
 },
 "nbformat": 4,
 "nbformat_minor": 2
}
