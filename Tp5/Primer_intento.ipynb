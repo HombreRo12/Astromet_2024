{
 "cells": [
  {
   "cell_type": "code",
   "execution_count": 6,
   "metadata": {},
   "outputs": [],
   "source": [
    "import numpy as np\n",
    "import\tmatplotlib.pyplot as plt\n",
    "import pandas as pd\n",
    "\n",
    "train = pd.read_csv('train.csv')\n",
    "train.set_index('ID',\tinplace=True)\n",
    "\n",
    "#Magnitudes, para armar colores\n",
    "H = train.loc[:,'Hmag']\n",
    "J\t= train.loc[:,'Jmag']\n",
    "U =\ttrain.loc[:,'umag']\n",
    "G =\ttrain.loc[:,'gmag']\n",
    "r = train.loc[:,'rmag']\n",
    "i = train.loc[:,'imag']\n",
    "z = train.loc[:,'zmag']\n",
    "Y = train.loc[:,'Ymag']\n",
    "K = train.loc[:,'Kmag']\n",
    "W1 =\ttrain.loc[:,'W1mag']\n",
    "W2 =\ttrain.loc[:,'W2mag']\n",
    "\n",
    "#Radios donde se encierra la mitad de la luz\n",
    "\n",
    "Y_r =\ttrain.loc[:,'Yhlr']\n",
    "J_r =\ttrain.loc[:,'Jhlr']\n",
    "H_r =\ttrain.loc[:,'Hhlr']\n",
    "K_r =\ttrain.loc[:,'Khlr']\n",
    "\n",
    "#Magnitud en apertura fija de 3''\n",
    "\n",
    "U3 =\ttrain.loc[:,'u3mag']\n",
    "G3 =\ttrain.loc[:,'g3mag']\n",
    "r3 =\ttrain.loc[:,'r3mag']\n",
    "i3 =\ttrain.loc[:,'i3mag']\n",
    "Z3\t=\ttrain.loc[:,'Z3mag']\n",
    "Y3\t=\ttrain.loc[:,'Y3mag']\n",
    "J3\t=\ttrain.loc[:,'J3mag']\n",
    "H3\t=\ttrain.loc[:,'H3mag']\n",
    "K3\t=\ttrain.loc[:,'K3mag']\n",
    "\n",
    "#Coordenadas\n",
    "\n",
    "ra = train.loc[:,'RAdeg']\n",
    "dec = train.loc[:,'DEdeg']\n",
    "\n",
    "#Clases para entrenar\n",
    "\n",
    "clase\t= train.loc[:,'Hclass'] #0: Estrella, 1: Galaxia, 2: QSO"
   ]
  },
  {
   "cell_type": "markdown",
   "metadata": {},
   "source": [
    "Preparemos los datos"
   ]
  },
  {
   "cell_type": "code",
   "execution_count": 7,
   "metadata": {},
   "outputs": [],
   "source": [
    "#Tiro los Nans\n",
    "mask_y\t= Y_r > -98\n",
    "mask_J = J_r > -98\n",
    "mask_H\t= H_r > -98\n",
    "mask_K = K_r > -98\n",
    "mask_total = mask_y & mask_J & mask_H & mask_K\n",
    "\n",
    "train\t= train[mask_total]\n",
    "\n",
    "\n",
    "# Agregar columnas U-G, G-R, J3/J_r y Y3/Y_r\n",
    "train['U-G'] = U - G\n",
    "train['G-R'] = G - r\n",
    "train['J3*J_r'] = J3 / J_r\n",
    "train['Y3_Y_r'] = Y3 / Y_r"
   ]
  },
  {
   "cell_type": "markdown",
   "metadata": {},
   "source": [
    "Importamos las librerias para seccionar los datos, los modelos a entrenar y las métricas"
   ]
  },
  {
   "cell_type": "code",
   "execution_count": 8,
   "metadata": {},
   "outputs": [],
   "source": [
    "from sklearn.model_selection import train_test_split\n",
    "from sklearn.tree\timport DecisionTreeClassifier\n",
    "from sklearn.metrics import f1_score, confusion_matrix, classification_report\n",
    "from sklearn.svm import SVC\n",
    "from sklearn.ensemble import RandomForestClassifier\n",
    "from sklearn.naive_bayes import GaussianNB"
   ]
  },
  {
   "cell_type": "markdown",
   "metadata": {},
   "source": [
    "Preparo las variables"
   ]
  },
  {
   "cell_type": "code",
   "execution_count": 9,
   "metadata": {},
   "outputs": [],
   "source": [
    "df_train, df_test = train_test_split(train, test_size=0.3, random_state=42)\n",
    "X_train = df_train.drop('Hclass', axis=1)\n",
    "Y_train\t= df_train['Hclass']\n",
    "X_test\t= df_test.drop('Hclass', axis=1)\n",
    "Y_test\t= df_test['Hclass']"
   ]
  },
  {
   "cell_type": "markdown",
   "metadata": {},
   "source": [
    "Primero, el árbol de decisiones para ver que hago las cosas bien"
   ]
  },
  {
   "cell_type": "code",
   "execution_count": 10,
   "metadata": {},
   "outputs": [
    {
     "name": "stdout",
     "output_type": "stream",
     "text": [
      "[[1607   49   14]\n",
      " [  25 7107   92]\n",
      " [  13   79  781]]\n",
      "              precision    recall  f1-score   support\n",
      "\n",
      "           0       0.98      0.96      0.97      1670\n",
      "           1       0.98      0.98      0.98      7224\n",
      "           2       0.88      0.89      0.89       873\n",
      "\n",
      "    accuracy                           0.97      9767\n",
      "   macro avg       0.95      0.95      0.95      9767\n",
      "weighted avg       0.97      0.97      0.97      9767\n",
      "\n",
      "0.9722022985465913\n"
     ]
    }
   ],
   "source": [
    "clf =\tDecisionTreeClassifier()\n",
    "clf.fit(X_train, Y_train)\n",
    "y_pred = clf.predict(X_test)\n",
    "print(confusion_matrix(Y_test, y_pred))\n",
    "print(classification_report(Y_test, y_pred))\n",
    "print(f1_score(Y_test, y_pred, average='weighted'))"
   ]
  },
  {
   "cell_type": "markdown",
   "metadata": {},
   "source": [
    "Bien, no murió, probemos los demás modelos"
   ]
  },
  {
   "cell_type": "markdown",
   "metadata": {},
   "source": [
    "SVC no debe dar bien para orden lineal, pero tal vez cúbico si"
   ]
  },
  {
   "cell_type": "code",
   "execution_count": 11,
   "metadata": {},
   "outputs": [
    {
     "name": "stdout",
     "output_type": "stream",
     "text": [
      "[[   0 1670    0]\n",
      " [   0 7224    0]\n",
      " [   0  873    0]]\n",
      "              precision    recall  f1-score   support\n",
      "\n",
      "           0       0.00      0.00      0.00      1670\n",
      "           1       0.74      1.00      0.85      7224\n",
      "           2       0.00      0.00      0.00       873\n",
      "\n",
      "    accuracy                           0.74      9767\n",
      "   macro avg       0.25      0.33      0.28      9767\n",
      "weighted avg       0.55      0.74      0.63      9767\n",
      "\n",
      "0.6289343902318404\n"
     ]
    },
    {
     "name": "stderr",
     "output_type": "stream",
     "text": [
      "/home/usuario/anaconda3/envs/astrometria/lib/python3.10/site-packages/sklearn/metrics/_classification.py:1531: UndefinedMetricWarning: Precision is ill-defined and being set to 0.0 in labels with no predicted samples. Use `zero_division` parameter to control this behavior.\n",
      "  _warn_prf(average, modifier, f\"{metric.capitalize()} is\", len(result))\n",
      "/home/usuario/anaconda3/envs/astrometria/lib/python3.10/site-packages/sklearn/metrics/_classification.py:1531: UndefinedMetricWarning: Precision is ill-defined and being set to 0.0 in labels with no predicted samples. Use `zero_division` parameter to control this behavior.\n",
      "  _warn_prf(average, modifier, f\"{metric.capitalize()} is\", len(result))\n",
      "/home/usuario/anaconda3/envs/astrometria/lib/python3.10/site-packages/sklearn/metrics/_classification.py:1531: UndefinedMetricWarning: Precision is ill-defined and being set to 0.0 in labels with no predicted samples. Use `zero_division` parameter to control this behavior.\n",
      "  _warn_prf(average, modifier, f\"{metric.capitalize()} is\", len(result))\n"
     ]
    }
   ],
   "source": [
    "clf2 =\tSVC(kernel='poly', degree=3, random_state=42)\n",
    "clf2.fit(X_train, Y_train)\n",
    "y_pred2 = clf2.predict(X_test)\n",
    "print(confusion_matrix(Y_test, y_pred2))\n",
    "print(classification_report(Y_test, y_pred2))\n",
    "print(f1_score(Y_test, y_pred2, average='weighted'))"
   ]
  },
  {
   "cell_type": "markdown",
   "metadata": {},
   "source": [
    "Dio HORRIBLE pero era masomenos esperable, no hay fronteras claras entre los parámetros, lo vimos en la visualización"
   ]
  },
  {
   "cell_type": "code",
   "execution_count": 12,
   "metadata": {},
   "outputs": [
    {
     "name": "stdout",
     "output_type": "stream",
     "text": [
      "[[1621   41    8]\n",
      " [   7 7187   30]\n",
      " [   6   68  799]]\n",
      "              precision    recall  f1-score   support\n",
      "\n",
      "           0       0.99      0.97      0.98      1670\n",
      "           1       0.99      0.99      0.99      7224\n",
      "           2       0.95      0.92      0.93       873\n",
      "\n",
      "    accuracy                           0.98      9767\n",
      "   macro avg       0.98      0.96      0.97      9767\n",
      "weighted avg       0.98      0.98      0.98      9767\n",
      "\n",
      "0.9835000781924398\n"
     ]
    }
   ],
   "source": [
    "clf3 =\tRandomForestClassifier(n_estimators=100, random_state=42)\n",
    "clf3.fit(X_train, Y_train)\n",
    "y_pred3 = clf3.predict(X_test)\n",
    "print(confusion_matrix(Y_test, y_pred3))\n",
    "print(classification_report(Y_test, y_pred3))\n",
    "print(f1_score(Y_test, y_pred3, average='weighted'))"
   ]
  },
  {
   "cell_type": "markdown",
   "metadata": {},
   "source": [
    "El mejor hasta el momento\n",
    "\n",
    "Ahora, pruebo GNB por ser el mejor crossover que vi hasta el momento"
   ]
  },
  {
   "cell_type": "code",
   "execution_count": 13,
   "metadata": {},
   "outputs": [
    {
     "name": "stdout",
     "output_type": "stream",
     "text": [
      "[[1507    4  159]\n",
      " [2088 1895 3241]\n",
      " [ 136    5  732]]\n",
      "              precision    recall  f1-score   support\n",
      "\n",
      "           0       0.40      0.90      0.56      1670\n",
      "           1       1.00      0.26      0.42      7224\n",
      "           2       0.18      0.84      0.29       873\n",
      "\n",
      "    accuracy                           0.42      9767\n",
      "   macro avg       0.53      0.67      0.42      9767\n",
      "weighted avg       0.82      0.42      0.43      9767\n",
      "\n",
      "0.428661996580699\n"
     ]
    }
   ],
   "source": [
    "clf4 =\tGaussianNB()\n",
    "clf4.fit(X_train, Y_train)\n",
    "y_pred4 = clf4.predict(X_test)\n",
    "print(confusion_matrix(Y_test, y_pred4))\n",
    "print(classification_report(Y_test, y_pred4))\n",
    "print(f1_score(Y_test, y_pred4, average='weighted'))"
   ]
  },
  {
   "cell_type": "markdown",
   "metadata": {},
   "source": [
    "Es literalmente horrible"
   ]
  },
  {
   "cell_type": "markdown",
   "metadata": {},
   "source": [
    "Dado que random forest fue el mejor, vamos a jugar con los hiper parámetros y hacer el primer archivo para compartir"
   ]
  },
  {
   "cell_type": "code",
   "execution_count": 14,
   "metadata": {},
   "outputs": [
    {
     "name": "stdout",
     "output_type": "stream",
     "text": [
      "[[1615   46    9]\n",
      " [   6 7188   30]\n",
      " [   5   73  795]]\n",
      "              precision    recall  f1-score   support\n",
      "\n",
      "           0       0.99      0.97      0.98      1670\n",
      "           1       0.98      1.00      0.99      7224\n",
      "           2       0.95      0.91      0.93       873\n",
      "\n",
      "    accuracy                           0.98      9767\n",
      "   macro avg       0.98      0.96      0.97      9767\n",
      "weighted avg       0.98      0.98      0.98      9767\n",
      "\n",
      "0.9825602114202627\n"
     ]
    }
   ],
   "source": [
    "clf_bueno =\tRandomForestClassifier(n_estimators=200, random_state=42, max_depth=10, )\n",
    "clf_bueno.fit(X_train, Y_train)\n",
    "y_pred_bueno = clf_bueno.predict(X_test)\n",
    "print(confusion_matrix(Y_test, y_pred_bueno))\n",
    "print(classification_report(Y_test, y_pred_bueno))\n",
    "print(f1_score(Y_test, y_pred_bueno, average='weighted'))"
   ]
  },
  {
   "cell_type": "markdown",
   "metadata": {},
   "source": [
    "Tantos árboles empeoraron, mejor hago un plot"
   ]
  },
  {
   "cell_type": "code",
   "execution_count": 19,
   "metadata": {},
   "outputs": [
    {
     "data": {
      "image/png": "[encoded data removed]",
      "text/plain": [
       "<Figure size 640x480 with 1 Axes>"
      ]
     },
     "metadata": {},
     "output_type": "display_data"
    }
   ],
   "source": [
    "cantidad=15\n",
    "f1 = np.zeros(cantidad)\n",
    "for i in range (cantidad):\n",
    "\tclf = RandomForestClassifier(n_estimators=80+10*i, random_state=42, max_depth=10)\n",
    "\tclf.fit(X_train, Y_train)\n",
    "\ty_pred = clf.predict(X_test)\n",
    "\tf1[i]=f1_score(Y_test, y_pred, average='weighted')\n",
    "\n",
    "plt.plot(range(80, 80+10*cantidad, 10), f1)\n",
    "plt.xlabel('Cantidad de árboles')\n",
    "plt.ylabel('f1_score')\n",
    "plt.show()"
   ]
  },
  {
   "cell_type": "markdown",
   "metadata": {},
   "source": [
    "El pico está en 170, probamos con eso y enviamos"
   ]
  },
  {
   "cell_type": "code",
   "execution_count": 20,
   "metadata": {},
   "outputs": [
    {
     "name": "stdout",
     "output_type": "stream",
     "text": [
      "0.982763713111289\n"
     ]
    }
   ],
   "source": [
    "clf_sumbit = RandomForestClassifier(n_estimators=170, random_state=42, max_depth=10)\n",
    "clf_sumbit.fit(X_train, Y_train)\n",
    "y_pred_sumbit = clf_sumbit.predict(X_test)\n",
    "puntaje = f1_score(Y_test, y_pred_sumbit, average='weighted')\n",
    "print(puntaje)"
   ]
  },
  {
   "cell_type": "markdown",
   "metadata": {},
   "source": [
    "Efectivamente da bien, hagamos el test"
   ]
  },
  {
   "cell_type": "code",
   "execution_count": 21,
   "metadata": {},
   "outputs": [],
   "source": [
    "test = pd.read_csv('test.csv')\n",
    "test.set_index('ID', inplace=True)\n",
    "\n",
    "# Magnitudes, para armar colores\n",
    "H = test.loc[:, 'Hmag']\n",
    "J = test.loc[:, 'Jmag']\n",
    "U = test.loc[:, 'umag']\n",
    "G = test.loc[:, 'gmag']\n",
    "r = test.loc[:, 'rmag']\n",
    "i = test.loc[:, 'imag']\n",
    "z = test.loc[:, 'zmag']\n",
    "Y = test.loc[:, 'Ymag']\n",
    "K = test.loc[:, 'Kmag']\n",
    "W1 = test.loc[:, 'W1mag']\n",
    "W2 = test.loc[:, 'W2mag']\n",
    "\n",
    "# Radios donde se encierra la mitad de la luz\n",
    "Y_r = test.loc[:, 'Yhlr']\n",
    "J_r = test.loc[:, 'Jhlr']\n",
    "H_r = test.loc[:, 'Hhlr']\n",
    "K_r = test.loc[:, 'Khlr']\n",
    "\n",
    "# Magnitud en apertura fija de 3''\n",
    "U3 = test.loc[:, 'u3mag']\n",
    "G3 = test.loc[:, 'g3mag']\n",
    "r3 = test.loc[:, 'r3mag']\n",
    "i3 = test.loc[:, 'i3mag']\n",
    "Z3 = test.loc[:, 'Z3mag']\n",
    "Y3 = test.loc[:, 'Y3mag']\n",
    "J3 = test.loc[:, 'J3mag']\n",
    "H3 = test.loc[:, 'H3mag']\n",
    "K3 = test.loc[:, 'K3mag']\n",
    "\n",
    "# Coordenadas\n",
    "ra = test.loc[:, 'RAdeg']\n",
    "dec = test.loc[:, 'DEdeg']\n",
    "\n",
    "#NO TIRO LOS NANS PORQUE SINO NO ES VÁLIDO EN KAGGLE\n",
    "#Tiro los Nans\n",
    "#mask_y\t= Y_r > -98\n",
    "#mask_J = J_r > -98\n",
    "#mask_H\t= H_r > -98\n",
    "#mask_K = K_r > -98\n",
    "#mask_total = mask_y & mask_J & mask_H & mask_K\n",
    "#\n",
    "#test\t= test[mask_total]\n",
    "\n",
    "\n",
    "# Agregar columnas U-G, G-R, J3/J_r y Y3/Y_r\n",
    "test['U-G'] = U - G\n",
    "test['G-R'] = G - r\n",
    "test['J3*J_r'] = J3 / J_r\n",
    "test['Y3_Y_r'] = Y3 / Y_r"
   ]
  },
  {
   "cell_type": "code",
   "execution_count": 22,
   "metadata": {},
   "outputs": [],
   "source": [
    "#Elegir sólo las columnas que se usaron para entrenar\n",
    "X_test_final = test[X_train.columns]\n",
    "\n",
    "predictions = clf_sumbit.predict(X_test_final)\n",
    "\n",
    "test['Hclass'] = predictions\n",
    "\n",
    "test.loc[:, ['Hclass']].to_csv('submit.csv', index=True)"
   ]
  },
  {
   "cell_type": "code",
   "execution_count": null,
   "metadata": {},
   "outputs": [],
   "source": []
  }
 ],
 "metadata": {
  "kernelspec": {
   "display_name": "astrometria",
   "language": "python",
   "name": "python3"
  },
  "language_info": {
   "codemirror_mode": {
    "name": "ipython",
    "version": 3
   },
   "file_extension": ".py",
   "mimetype": "text/x-python",
   "name": "python",
   "nbconvert_exporter": "python",
   "pygments_lexer": "ipython3",
   "version": "3.10.14"
  }
 },
 "nbformat": 4,
 "nbformat_minor": 2
}
