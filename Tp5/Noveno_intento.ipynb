{
 "cells": [
  {
   "cell_type": "code",
   "execution_count": 2,
   "metadata": {},
   "outputs": [],
   "source": [
    "import numpy as np\n",
    "import\tmatplotlib.pyplot as plt\n",
    "import pandas as pd\n",
    "\n",
    "train = pd.read_csv('train.csv')\n",
    "train.set_index('ID',\tinplace=True)\n",
    "\n",
    "#Magnitudes, para armar colores\n",
    "H = train.loc[:,'Hmag']\n",
    "J\t= train.loc[:,'Jmag']\n",
    "U =\ttrain.loc[:,'umag']\n",
    "G =\ttrain.loc[:,'gmag']\n",
    "r = train.loc[:,'rmag']\n",
    "i = train.loc[:,'imag']\n",
    "z = train.loc[:,'zmag']\n",
    "Y = train.loc[:,'Ymag']\n",
    "K = train.loc[:,'Kmag']\n",
    "W1 =\ttrain.loc[:,'W1mag']\n",
    "W2 =\ttrain.loc[:,'W2mag']\n",
    "\n",
    "#Radios donde se encierra la mitad de la luz\n",
    "\n",
    "Y_r =\ttrain.loc[:,'Yhlr']\n",
    "J_r =\ttrain.loc[:,'Jhlr']\n",
    "H_r =\ttrain.loc[:,'Hhlr']\n",
    "K_r =\ttrain.loc[:,'Khlr']\n",
    "\n",
    "#Magnitud en apertura fija de 3''\n",
    "\n",
    "U3 =\ttrain.loc[:,'u3mag']\n",
    "G3 =\ttrain.loc[:,'g3mag']\n",
    "r3 =\ttrain.loc[:,'r3mag']\n",
    "i3 =\ttrain.loc[:,'i3mag']\n",
    "Z3\t=\ttrain.loc[:,'Z3mag']\n",
    "Y3\t=\ttrain.loc[:,'Y3mag']\n",
    "J3\t=\ttrain.loc[:,'J3mag']\n",
    "H3\t=\ttrain.loc[:,'H3mag']\n",
    "K3\t=\ttrain.loc[:,'K3mag']\n",
    "\n",
    "#Coordenadas\n",
    "\n",
    "ra = train.loc[:,'RAdeg']\n",
    "dec = train.loc[:,'DEdeg']\n",
    "\n",
    "#Clases para entrenar\n",
    "\n",
    "clase\t= train.loc[:,'Hclass'] #0: Estrella, 1: Galaxia, 2: QSO\n",
    "\n",
    "#Tiro los Nans\n",
    "mask_y\t= Y_r > -98\n",
    "mask_J = J_r > -98\n",
    "mask_H\t= H_r > -98\n",
    "mask_K = K_r > -98\n",
    "mask_total = mask_y & mask_J & mask_H & mask_K\n",
    "\n",
    "train\t= train[mask_total]\n",
    "\n",
    "\n",
    "# Agregar columnas U-G, G-R, i-z, J3/J_r y Y3/Y_r\n",
    "train['U-G'] = U - G\n",
    "train['G-R'] = G - r\n",
    "train['i-z'] = i - z\n",
    "train['J3/J_r'] = J3 / J_r\n",
    "train['Y3/Y_r'] = Y3 / Y_r"
   ]
  },
  {
   "cell_type": "code",
   "execution_count": 3,
   "metadata": {},
   "outputs": [
    {
     "name": "stderr",
     "output_type": "stream",
     "text": [
      "/tmp/ipykernel_9789/2103146508.py:6: UserWarning: Boolean Series key will be reindexed to match DataFrame index.\n",
      "  train = train[mask_total]\n"
     ]
    },
    {
     "name": "stdout",
     "output_type": "stream",
     "text": [
      "[(0, 23999), (1, 23999), (2, 23999)]\n"
     ]
    },
    {
     "name": "stderr",
     "output_type": "stream",
     "text": [
      "/home/usuario/anaconda3/envs/astrometria/lib/python3.10/site-packages/sklearn/linear_model/_logistic.py:469: ConvergenceWarning: lbfgs failed to converge (status=1):\n",
      "STOP: TOTAL NO. of ITERATIONS REACHED LIMIT.\n",
      "\n",
      "Increase the number of iterations (max_iter) or scale the data as shown in:\n",
      "    https://scikit-learn.org/stable/modules/preprocessing.html\n",
      "Please also refer to the documentation for alternative solver options:\n",
      "    https://scikit-learn.org/stable/modules/linear_model.html#logistic-regression\n",
      "  n_iter_i = _check_optimize_result(\n"
     ]
    },
    {
     "name": "stdout",
     "output_type": "stream",
     "text": [
      "[(0, 23954), (1, 23999), (2, 23909)]\n"
     ]
    },
    {
     "name": "stderr",
     "output_type": "stream",
     "text": [
      "/home/usuario/anaconda3/envs/astrometria/lib/python3.10/site-packages/sklearn/linear_model/_logistic.py:469: ConvergenceWarning: lbfgs failed to converge (status=1):\n",
      "STOP: TOTAL NO. of ITERATIONS REACHED LIMIT.\n",
      "\n",
      "Increase the number of iterations (max_iter) or scale the data as shown in:\n",
      "    https://scikit-learn.org/stable/modules/preprocessing.html\n",
      "Please also refer to the documentation for alternative solver options:\n",
      "    https://scikit-learn.org/stable/modules/linear_model.html#logistic-regression\n",
      "  n_iter_i = _check_optimize_result(\n"
     ]
    }
   ],
   "source": [
    "from imblearn.over_sampling import SMOTE, ADASYN\n",
    "from collections import Counter\n",
    "from sklearn.linear_model import LogisticRegression\n",
    "\n",
    "# Ensure train and clase have the same length after applying the mask\n",
    "train = train[mask_total]\n",
    "clase = clase[mask_total]\n",
    "\n",
    "features = ['U-G', 'G-R', 'J3/J_r', 'Y3/Y_r','i-z', 'Hmag','Jmag','umag','gmag','rmag','imag','zmag','Ymag','Kmag','W1mag','W2mag','Yhlr','Jhlr','Hhlr','Khlr','u3mag','g3mag','r3mag','i3mag','Z3mag','Y3mag','J3mag','H3mag','K3mag'] \n",
    "\n",
    "X = train[features]\n",
    "y = clase\n",
    "\n",
    "X_resampled, y_resampled = SMOTE().fit_resample(X, y)\n",
    "print(sorted(Counter(y_resampled).items()))\n",
    "clf_smote = LogisticRegression().fit(X_resampled, y_resampled)\n",
    "X_resampled, y_resampled = ADASYN().fit_resample(X, y)\n",
    "print(sorted(Counter(y_resampled).items()))\n",
    "clf_adasyn = LogisticRegression().fit(X_resampled, y_resampled)\n",
    "\n",
    "train_resample = pd.DataFrame(X_resampled, columns=features)\n",
    "train_resample.insert(0, 'Hclass', y_resampled.values)"
   ]
  },
  {
   "cell_type": "code",
   "execution_count": null,
   "metadata": {},
   "outputs": [
    {
     "name": "stdout",
     "output_type": "stream",
     "text": [
      "[[7200   61    0]\n",
      " [  22 7036  142]\n",
      " [   1   41 7056]]\n",
      "              precision    recall  f1-score   support\n",
      "\n",
      "           0       1.00      0.99      0.99      7261\n",
      "           1       0.99      0.98      0.98      7200\n",
      "           2       0.98      0.99      0.99      7098\n",
      "\n",
      "    accuracy                           0.99     21559\n",
      "   macro avg       0.99      0.99      0.99     21559\n",
      "weighted avg       0.99      0.99      0.99     21559\n",
      "\n",
      "0.9876134436207479\n"
     ]
    }
   ],
   "source": [
    "from sklearn.ensemble import RandomForestClassifier\n",
    "from\tsklearn.model_selection import train_test_split\n",
    "from sklearn.metrics import f1_score, confusion_matrix, classification_report\n",
    "\n",
    "\n",
    "features = ['U-G', 'G-R', 'J3/J_r', 'Y3/Y_r','i-z', 'Hmag','Jmag','umag','gmag','rmag','imag','zmag','Ymag','Kmag','W1mag','W2mag','Yhlr','Jhlr','Hhlr','Khlr','u3mag','g3mag','r3mag','i3mag','Z3mag','Y3mag','J3mag','H3mag','K3mag'] \n",
    "\n",
    "\n",
    "\n",
    "df_train, df_test = train_test_split(train_resample, test_size=0.3, random_state=42)\n",
    "X_train = df_train[features]\n",
    "Y_train\t= df_train['Hclass']\n",
    "X_test\t= df_test[features]\n",
    "Y_test\t= df_test['Hclass']\n",
    "\n",
    "clf = RandomForestClassifier(n_estimators=160, random_state=42,min_samples_split=15, min_samples_leaf=3,\n",
    "                             max_depth=15, criterion='entropy')\n",
    "\n",
    "#Ponemos min_samples_split que es la cantidad mínima de muestras para separar, para evitar sobreajuste.\n",
    "#Min_samples_leaf es la cantidad mínima de muestras en una hoja al terminar, evitamos el sobreajuste.\n",
    "#Max_depth es la profundidad máxima del árbol, para evitar el sobreajuste.\n",
    "\n",
    "clf.fit(X_train, Y_train)\n",
    "Y_pred = clf.predict(X_test)\n",
    "print(confusion_matrix(Y_test, Y_pred))\n",
    "print(classification_report(Y_test, Y_pred))\n",
    "print(f1_score(Y_test, Y_pred, average='weighted'))"
   ]
  },
  {
   "cell_type": "code",
   "execution_count": 5,
   "metadata": {},
   "outputs": [
    {
     "name": "stdout",
     "output_type": "stream",
     "text": [
      "0.97964335806133\n",
      "{'n_estimators': 150}\n"
     ]
    }
   ],
   "source": [
    "from sklearn.model_selection\timport GridSearchCV\n",
    "param_grid\t= {\n",
    "\t\t\t\t'n_estimators': [100, 150, 200],\n",
    "}\n",
    "\n",
    "grid_search = GridSearchCV(clf, param_grid, cv=2)\n",
    "grid_search.fit(X_train, Y_train)\n",
    "print(grid_search.best_score_)\n",
    "print(grid_search.best_params_)"
   ]
  },
  {
   "cell_type": "code",
   "execution_count": 6,
   "metadata": {},
   "outputs": [],
   "source": [
    "test = pd.read_csv('test.csv')\n",
    "test.set_index('ID', inplace=True)\n",
    "\n",
    "# Magnitudes, para armar colores\n",
    "H = test.loc[:, 'Hmag']\n",
    "J = test.loc[:, 'Jmag']\n",
    "U = test.loc[:, 'umag']\n",
    "G = test.loc[:, 'gmag']\n",
    "r = test.loc[:, 'rmag']\n",
    "i = test.loc[:, 'imag']\n",
    "z = test.loc[:, 'zmag']\n",
    "Y = test.loc[:, 'Ymag']\n",
    "K = test.loc[:, 'Kmag']\n",
    "W1 = test.loc[:, 'W1mag']\n",
    "W2 = test.loc[:, 'W2mag']\n",
    "\n",
    "# Radios donde se encierra la mitad de la luz\n",
    "Y_r = test.loc[:, 'Yhlr']\n",
    "J_r = test.loc[:, 'Jhlr']\n",
    "H_r = test.loc[:, 'Hhlr']\n",
    "K_r = test.loc[:, 'Khlr']\n",
    "\n",
    "# Magnitud en apertura fija de 3''\n",
    "U3 = test.loc[:, 'u3mag']\n",
    "G3 = test.loc[:, 'g3mag']\n",
    "r3 = test.loc[:, 'r3mag']\n",
    "i3 = test.loc[:, 'i3mag']\n",
    "Z3 = test.loc[:, 'Z3mag']\n",
    "Y3 = test.loc[:, 'Y3mag']\n",
    "J3 = test.loc[:, 'J3mag']\n",
    "H3 = test.loc[:, 'H3mag']\n",
    "K3 = test.loc[:, 'K3mag']\n",
    "\n",
    "# Coordenadas\n",
    "ra = test.loc[:, 'RAdeg']\n",
    "dec = test.loc[:, 'DEdeg']\n",
    "\n",
    "#NO TIRO LOS NANS PORQUE SINO NO ES VÁLIDO EN KAGGLE\n",
    "\n",
    "# Agregar columnas U-G, G-R, J3/J_r y Y3/Y_r\n",
    "test['U-G'] = U - G\n",
    "test['G-R'] = G - r\n",
    "test['J3/J_r'] = J3 / J_r\n",
    "test['Y3/Y_r'] = Y3 / Y_r\n",
    "test['i-z'] = i - z\n",
    "\n",
    "\n",
    "#Elegir sólo las columnas que se usaron para entrenar\n",
    "X_test_final = test[features]\n",
    "\n",
    "predictions = clf.predict(X_test_final)\n",
    "\n",
    "test['Hclass'] = predictions\n",
    "\n",
    "test.loc[:, ['Hclass']].to_csv('submit8.csv', index=True)"
   ]
  }
 ],
 "metadata": {
  "kernelspec": {
   "display_name": "astrometria",
   "language": "python",
   "name": "python3"
  },
  "language_info": {
   "codemirror_mode": {
    "name": "ipython",
    "version": 3
   },
   "file_extension": ".py",
   "mimetype": "text/x-python",
   "name": "python",
   "nbconvert_exporter": "python",
   "pygments_lexer": "ipython3",
   "version": "3.10.14"
  }
 },
 "nbformat": 4,
 "nbformat_minor": 2
}
