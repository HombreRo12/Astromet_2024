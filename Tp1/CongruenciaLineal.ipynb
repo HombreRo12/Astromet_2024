{
 "cells": [
  {
   "cell_type": "code",
   "execution_count": 4,
   "metadata": {},
   "outputs": [],
   "source": [
    "import matplotlib.pyplot as plt"
   ]
  },
  {
   "cell_type": "code",
   "execution_count": 1,
   "metadata": {},
   "outputs": [],
   "source": [
    "def ra(x_1,a=57, c=1, M=256): #Defino el generador con los parámetros solicitados\n",
    "    x_1=(a*x_1+c)%M\n",
    "    return x_1"
   ]
  },
  {
   "cell_type": "code",
   "execution_count": 5,
   "metadata": {},
   "outputs": [
    {
     "name": "stdout",
     "output_type": "stream",
     "text": [
      "[59, 36, 5, 30, 175, 248, 57, 178, 163, 76, 237, 198, 23, 32, 33]\n"
     ]
    },
    {
     "data": {
      "text/plain": [
       "(array([2., 4., 3., 0., 0., 0., 2., 2., 0., 2.]),\n",
       " array([  5. ,  29.3,  53.6,  77.9, 102.2, 126.5, 150.8, 175.1, 199.4,\n",
       "        223.7, 248. ]),\n",
       " <BarContainer object of 10 artists>)"
      ]
     },
     "execution_count": 5,
     "metadata": {},
     "output_type": "execute_result"
    },
    {
     "data": {
      "image/png": "[encoded data removed]",
      "text/plain": [
       "<Figure size 640x480 with 1 Axes>"
      ]
     },
     "metadata": {},
     "output_type": "display_data"
    }
   ],
   "source": [
    "n=15 #Cantidad de números a generar\n",
    "x_0=10 #Semilla solicitada\n",
    "lista_de_prueba=[] #defino la lista\n",
    "for i in range(n): #Bucle que genera números y los mete en la lista\n",
    "    x_0=ra(x_0)\n",
    "    lista_de_prueba.append(x_0)\n",
    "\n",
    "print(lista_de_prueba)\n",
    "\n",
    "plt.hist(lista_de_prueba)"
   ]
  },
  {
   "cell_type": "code",
   "execution_count": 11,
   "metadata": {},
   "outputs": [
    {
     "ename": "KeyboardInterrupt",
     "evalue": "",
     "output_type": "error",
     "traceback": [
      "\u001b[0;31m---------------------------------------------------------------------------\u001b[0m",
      "\u001b[0;31mKeyboardInterrupt\u001b[0m                         Traceback (most recent call last)",
      "Cell \u001b[0;32mIn[11], line 11\u001b[0m\n\u001b[1;32m      8\u001b[0m \u001b[38;5;66;03m#La idea es armar un bucle que genere valores indefinidamente hasta encontrar 3 repeticiones seguidas.\u001b[39;00m\n\u001b[1;32m     10\u001b[0m \u001b[38;5;28;01mwhile\u001b[39;00m \u001b[38;5;28;01mTrue\u001b[39;00m: \u001b[38;5;66;03m#Bucle\u001b[39;00m\n\u001b[0;32m---> 11\u001b[0m     \u001b[38;5;28;01mif\u001b[39;00m x_0 \u001b[38;5;129;01min\u001b[39;00m lista:\n\u001b[1;32m     12\u001b[0m         \u001b[38;5;28mprint\u001b[39m(\u001b[38;5;124m'\u001b[39m\u001b[38;5;124mPrimer repetición en\u001b[39m\u001b[38;5;124m'\u001b[39m, cuanto)\n\u001b[1;32m     13\u001b[0m         repe\u001b[38;5;241m=\u001b[39mrepe\u001b[38;5;241m+\u001b[39m\u001b[38;5;241m1\u001b[39m \u001b[38;5;66;03m#Al detectar una repetición avisa, por las dudas\u001b[39;00m\n",
      "\u001b[0;31mKeyboardInterrupt\u001b[0m: "
     ]
    }
   ],
   "source": [
    "#Testeo de período\n",
    "\n",
    "x_0=10 #Semilla\n",
    "lista=[] #Defino la lista\n",
    "cuanto = 0 #Contador\n",
    "repe=0 #variable para contar repeticiones\n",
    "\n",
    "#La idea es armar un bucle que genere valores indefinidamente hasta encontrar 3 repeticiones seguidas.\n",
    "\n",
    "while True: #Bucle\n",
    "    if x_0 in lista:\n",
    "        print('Primer repetición en', cuanto)\n",
    "        repe=repe+1 #Al detectar una repetición avisa, por las dudas\n",
    "    if repe > 3: #Si se repitieron tres valores, tengo que parar\n",
    "        print('Posee un ciclo de' , cuanto-3) #Me dice el ciclo\n",
    "        break #Para\n",
    "else:\n",
    "    lista.append(x_0) #Añade el número a la lista\n",
    "    x_0=ra(x_0) #Generador en acción\n",
    "    cuanto=cuanto+1 #Conteo de números generados\n",
    "\n",
    "print(lista) \n",
    "\n"
   ]
  },
  {
   "cell_type": "code",
   "execution_count": null,
   "metadata": {},
   "outputs": [],
   "source": [
    "plt.hist(lista)"
   ]
  }
 ],
 "metadata": {
  "kernelspec": {
   "display_name": "astrometria",
   "language": "python",
   "name": "python3"
  },
  "language_info": {
   "codemirror_mode": {
    "name": "ipython",
    "version": 3
   },
   "file_extension": ".py",
   "mimetype": "text/x-python",
   "name": "python",
   "nbconvert_exporter": "python",
   "pygments_lexer": "ipython3",
   "version": "3.10.14"
  }
 },
 "nbformat": 4,
 "nbformat_minor": 2
}
